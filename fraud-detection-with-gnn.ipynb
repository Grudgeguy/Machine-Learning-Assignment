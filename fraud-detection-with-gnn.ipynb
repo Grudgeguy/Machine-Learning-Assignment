{
 "cells": [
  {
   "cell_type": "markdown",
   "metadata": {},
   "source": [
    "## Fraud Detection Using GNNs"
   ]
  },
  {
   "cell_type": "markdown",
   "metadata": {},
   "source": [
    "## Graph approaches for fraud detection\n",
    "\n",
    "Transactions can be represented as a graph, with users as nodes and interactions between them as edges. Traditional feature-based algorithms such as XGBoost and DLRM analyze individual nodes or edges, while graph-based approaches take into account the local context and structure of the graph, including neighboring nodes and edges.\n",
    "\n",
    "In the traditional graph domain, there are various methods for making predictions based on graph structure, such as statistical approaches that aggregate features from adjacent nodes or edges. Algorithms like the [Louvain method](https://en.wikipedia.org/wiki/Louvain_method) and [InfoMap](https://towardsdatascience.com/infomap-algorithm-9b68b7e8b86) can identify communities and clusters of users on the graph. However, these methods lack the expressivity to fully consider the graph in its original format.\n",
    "\n",
    "Graph neural networks (GNNs) offer a solution by representing local structural and feature context natively within the model. Through aggregation and message passing, information from both edges and nodes is propagated to neighboring nodes. Multiple layers of graph convolution result in a node's state containing information from nodes multiple layers away, effectively allowing the GNN to have a \"receptive field\" of nodes or edges multiple jumps away from the node or edge in question.\n",
    "\n",
    "For fraud detection, GNNs can account for complex or longer chains of transactions that fraudsters use for obfuscation. Additionally, changing patterns can be addressed by retraining the model iteratively."
   ]
  },
  {
   "cell_type": "markdown",
   "metadata": {},
   "source": [
    "## ML for graph \n",
    "\n",
    "These are the general steps of ML on Graph, depending on the task, the methods used in each step may change and not all the steps may be needed.\n",
    "\n",
    "1. Graph Representation: The first step in applying machine learning techniques to graphs is to represent the graph in a format that can be input into a machine learning model. This can be done using various graph representations such as adjacency matrices, adjacency lists, and edge lists.\n",
    "\n",
    "2. Feature Extraction: Once the graph is represented, the next step is to extract features from the graph that can be used as input to a machine learning model. These features can include things like node degree, centrality measures, and graph traversal patterns.\n",
    "\n",
    "3. Dimensionality Reduction: As the number of nodes and edges in a graph can be large, it is often necessary to reduce the dimensionality of the graph representation before applying machine learning techniques. This can be done using techniques like principal component analysis (PCA) and t-SNE.\n",
    "\n",
    "4. Model Selection: After the graph is represented and features have been extracted, the next step is to select a machine learning model that can be applied to the graph data. Common models used for graph data include decision trees, random forests, and neural networks.\n",
    "\n",
    "5. Training and Evaluation: Once the model is selected, it is trained on the graph data using a labeled training dataset. The model is then evaluated on a separate test dataset to assess its performance.\n",
    "\n",
    "6. Predictions: After the model is trained, it can be used to make predictions on new graph data. For example, it can be used to predict the likelihood of a node in a graph being in a certain class or to predict the likelihood of a link between two nodes."
   ]
  },
  {
   "cell_type": "markdown",
   "metadata": {},
   "source": [
    "## Necessary imports "
   ]
  },
  {
   "cell_type": "code",
   "execution_count": 1,
   "metadata": {
    "execution": {
     "iopub.execute_input": "2023-01-16T21:08:15.682511Z",
     "iopub.status.busy": "2023-01-16T21:08:15.682100Z",
     "iopub.status.idle": "2023-01-16T21:08:15.689776Z",
     "shell.execute_reply": "2023-01-16T21:08:15.688076Z",
     "shell.execute_reply.started": "2023-01-16T21:08:15.682477Z"
    }
   },
   "outputs": [],
   "source": [
    "import pandas as pd\n",
    "import numpy as np\n",
    "import matplotlib.pyplot as plt\n",
    "from collections import Counter\n",
    "from sklearn.model_selection import train_test_split\n",
    "from sklearn.preprocessing import LabelEncoder\n",
    "import networkx as nx\n",
    "import torch\n",
    "import torch.nn as nn\n",
    "import torch.nn.functional as F"
   ]
  },
  {
   "cell_type": "code",
   "execution_count": 4,
   "metadata": {
    "execution": {
     "iopub.execute_input": "2023-01-16T21:02:57.756542Z",
     "iopub.status.busy": "2023-01-16T21:02:57.755879Z",
     "iopub.status.idle": "2023-01-16T21:04:23.668499Z",
     "shell.execute_reply": "2023-01-16T21:04:23.667008Z",
     "shell.execute_reply.started": "2023-01-16T21:02:57.756503Z"
    }
   },
   "outputs": [],
   "source": [
    "df = pd.read_csv(\"User0_credit_card_transactions.csv\").sample( random_state=42)"
   ]
  },
  {
   "cell_type": "code",
   "execution_count": 5,
   "metadata": {
    "execution": {
     "iopub.execute_input": "2023-01-16T21:04:23.672324Z",
     "iopub.status.busy": "2023-01-16T21:04:23.671699Z",
     "iopub.status.idle": "2023-01-16T21:04:23.770159Z",
     "shell.execute_reply": "2023-01-16T21:04:23.768565Z",
     "shell.execute_reply.started": "2023-01-16T21:04:23.672275Z"
    }
   },
   "outputs": [
    {
     "name": "stdout",
     "output_type": "stream",
     "text": [
      "<class 'pandas.core.frame.DataFrame'>\n",
      "Int64Index: 1 entries, 2199 to 2199\n",
      "Data columns (total 15 columns):\n",
      " #   Column          Non-Null Count  Dtype  \n",
      "---  ------          --------------  -----  \n",
      " 0   User            1 non-null      int64  \n",
      " 1   Card            1 non-null      int64  \n",
      " 2   Year            1 non-null      int64  \n",
      " 3   Month           1 non-null      int64  \n",
      " 4   Day             1 non-null      int64  \n",
      " 5   Time            1 non-null      object \n",
      " 6   Amount          1 non-null      object \n",
      " 7   Use Chip        1 non-null      object \n",
      " 8   Merchant Name   1 non-null      int64  \n",
      " 9   Merchant City   1 non-null      object \n",
      " 10  Merchant State  1 non-null      object \n",
      " 11  Zip             1 non-null      float64\n",
      " 12  MCC             1 non-null      int64  \n",
      " 13  Errors?         0 non-null      object \n",
      " 14  Is Fraud?       1 non-null      object \n",
      "dtypes: float64(1), int64(7), object(7)\n",
      "memory usage: 128.0+ bytes\n"
     ]
    }
   ],
   "source": [
    "df.info()"
   ]
  },
  {
   "cell_type": "code",
   "execution_count": 6,
   "metadata": {
    "execution": {
     "iopub.execute_input": "2023-01-16T21:04:23.772609Z",
     "iopub.status.busy": "2023-01-16T21:04:23.771853Z",
     "iopub.status.idle": "2023-01-16T21:04:23.792769Z",
     "shell.execute_reply": "2023-01-16T21:04:23.790768Z",
     "shell.execute_reply.started": "2023-01-16T21:04:23.772521Z"
    }
   },
   "outputs": [
    {
     "data": {
      "text/plain": [
       "(0, 15)"
      ]
     },
     "execution_count": 6,
     "metadata": {},
     "output_type": "execute_result"
    }
   ],
   "source": [
    "# We need to make sure that the samples we extracted have some rows where fraud is True\n",
    "df [df['Is Fraud?'] == 'Yes'].shape"
   ]
  },
  {
   "cell_type": "code",
   "execution_count": 7,
   "metadata": {
    "execution": {
     "iopub.execute_input": "2023-01-16T21:04:23.797075Z",
     "iopub.status.busy": "2023-01-16T21:04:23.796135Z",
     "iopub.status.idle": "2023-01-16T21:04:24.225588Z",
     "shell.execute_reply": "2023-01-16T21:04:24.223789Z",
     "shell.execute_reply.started": "2023-01-16T21:04:23.797018Z"
    }
   },
   "outputs": [
    {
     "data": {
      "text/plain": [
       "([0, 1, 2, 3, 4, 5, 6, 7, 8, 9, 10, 11, 12, 13, 14],\n",
       " [Text(0, 0, ''),\n",
       "  Text(0, 0, ''),\n",
       "  Text(0, 0, ''),\n",
       "  Text(0, 0, ''),\n",
       "  Text(0, 0, ''),\n",
       "  Text(0, 0, ''),\n",
       "  Text(0, 0, ''),\n",
       "  Text(0, 0, ''),\n",
       "  Text(0, 0, ''),\n",
       "  Text(0, 0, ''),\n",
       "  Text(0, 0, ''),\n",
       "  Text(0, 0, ''),\n",
       "  Text(0, 0, ''),\n",
       "  Text(0, 0, ''),\n",
       "  Text(0, 0, '')])"
      ]
     },
     "execution_count": 7,
     "metadata": {},
     "output_type": "execute_result"
    },
    {
     "data": {
      "image/png": "[encoded data removed]",
      "text/plain": [
       "<Figure size 640x480 with 1 Axes>"
      ]
     },
     "metadata": {},
     "output_type": "display_data"
    }
   ],
   "source": [
    "percent_missing=(df.isnull().sum()*100/df.shape[0]).sort_values(ascending=True)\n",
    "plt.title(\"Missing Value Analysis\")\n",
    "plt.xlabel(\"Features\")\n",
    "plt.ylabel(\"% of missing values\")\n",
    "plt.bar(percent_missing.sort_values(ascending=False).index,percent_missing.sort_values(ascending=False),color=(0.1, 0.1, 0.1, 0.1),edgecolor='blue')\n",
    "plt.xticks(rotation=90)"
   ]
  },
  {
   "cell_type": "markdown",
   "metadata": {},
   "source": [
    "The card_id is defined as one card by one user. A specific user can have multiple cards, which would correspond to multiple different card_ids for this graph. \n",
    "For this reason we will create a new column which is the concatenation of the column User and the Column Card"
   ]
  },
  {
   "cell_type": "code",
   "execution_count": 8,
   "metadata": {
    "execution": {
     "iopub.execute_input": "2023-01-16T21:04:24.227819Z",
     "iopub.status.busy": "2023-01-16T21:04:24.227364Z",
     "iopub.status.idle": "2023-01-16T21:04:24.381702Z",
     "shell.execute_reply": "2023-01-16T21:04:24.380181Z",
     "shell.execute_reply.started": "2023-01-16T21:04:24.227781Z"
    }
   },
   "outputs": [],
   "source": [
    "df[\"card_id\"] = df[\"User\"].astype(str) + \"_\" + df[\"Card\"].astype(str)"
   ]
  },
  {
   "cell_type": "code",
   "execution_count": 9,
   "metadata": {
    "execution": {
     "iopub.execute_input": "2023-01-16T21:04:24.384304Z",
     "iopub.status.busy": "2023-01-16T21:04:24.383425Z",
     "iopub.status.idle": "2023-01-16T21:04:24.393573Z",
     "shell.execute_reply": "2023-01-16T21:04:24.391625Z",
     "shell.execute_reply.started": "2023-01-16T21:04:24.384265Z"
    }
   },
   "outputs": [
    {
     "data": {
      "text/plain": [
       "2199    $32.26\n",
       "Name: Amount, dtype: object"
      ]
     },
     "execution_count": 9,
     "metadata": {},
     "output_type": "execute_result"
    }
   ],
   "source": [
    "df.Amount.head(5)"
   ]
  },
  {
   "cell_type": "code",
   "execution_count": 10,
   "metadata": {
    "execution": {
     "iopub.execute_input": "2023-01-16T21:04:24.396354Z",
     "iopub.status.busy": "2023-01-16T21:04:24.395249Z",
     "iopub.status.idle": "2023-01-16T21:04:24.574714Z",
     "shell.execute_reply": "2023-01-16T21:04:24.573724Z",
     "shell.execute_reply.started": "2023-01-16T21:04:24.396307Z"
    }
   },
   "outputs": [
    {
     "name": "stderr",
     "output_type": "stream",
     "text": [
      "C:\\Users\\dhruv\\AppData\\Local\\Temp\\ipykernel_17640\\206150659.py:2: FutureWarning: The default value of regex will change from True to False in a future version. In addition, single character regular expressions will *not* be treated as literal strings when regex=True.\n",
      "  df[\"Amount\"]=df[\"Amount\"].str.replace(\"$\",\"\").astype(float)\n"
     ]
    }
   ],
   "source": [
    "# We need to strip the ‘$’ from the Amount to cast as a float\n",
    "df[\"Amount\"]=df[\"Amount\"].str.replace(\"$\",\"\").astype(float)"
   ]
  },
  {
   "cell_type": "code",
   "execution_count": 11,
   "metadata": {
    "execution": {
     "iopub.execute_input": "2023-01-16T21:04:24.577077Z",
     "iopub.status.busy": "2023-01-16T21:04:24.575790Z",
     "iopub.status.idle": "2023-01-16T21:04:24.745287Z",
     "shell.execute_reply": "2023-01-16T21:04:24.743972Z",
     "shell.execute_reply.started": "2023-01-16T21:04:24.576900Z"
    }
   },
   "outputs": [],
   "source": [
    "# time can't be casted to int so so opted to extract the hour and minute\n",
    "df[\"Hour\"] = df[\"Time\"].str [0:2]\n",
    "df[\"Minute\"] = df[\"Time\"].str [3:5]"
   ]
  },
  {
   "cell_type": "code",
   "execution_count": 12,
   "metadata": {
    "execution": {
     "iopub.execute_input": "2023-01-16T21:04:24.747613Z",
     "iopub.status.busy": "2023-01-16T21:04:24.747153Z",
     "iopub.status.idle": "2023-01-16T21:04:24.758257Z",
     "shell.execute_reply": "2023-01-16T21:04:24.756259Z",
     "shell.execute_reply.started": "2023-01-16T21:04:24.747539Z"
    }
   },
   "outputs": [
    {
     "data": {
      "text/plain": [
       "2199    06\n",
       "Name: Hour, dtype: object"
      ]
     },
     "execution_count": 12,
     "metadata": {},
     "output_type": "execute_result"
    }
   ],
   "source": [
    "df.Hour"
   ]
  },
  {
   "cell_type": "code",
   "execution_count": 13,
   "metadata": {
    "execution": {
     "iopub.execute_input": "2023-01-16T21:04:24.765446Z",
     "iopub.status.busy": "2023-01-16T21:04:24.764947Z",
     "iopub.status.idle": "2023-01-16T21:04:24.921271Z",
     "shell.execute_reply": "2023-01-16T21:04:24.919646Z",
     "shell.execute_reply.started": "2023-01-16T21:04:24.765408Z"
    }
   },
   "outputs": [
    {
     "data": {
      "text/plain": [
       "2199    35\n",
       "Name: Minute, dtype: object"
      ]
     },
     "execution_count": 13,
     "metadata": {},
     "output_type": "execute_result"
    }
   ],
   "source": [
    "df.Minute"
   ]
  },
  {
   "cell_type": "code",
   "execution_count": 14,
   "metadata": {
    "execution": {
     "iopub.execute_input": "2023-01-16T21:04:24.923964Z",
     "iopub.status.busy": "2023-01-16T21:04:24.923441Z",
     "iopub.status.idle": "2023-01-16T21:04:25.062506Z",
     "shell.execute_reply": "2023-01-16T21:04:25.060936Z",
     "shell.execute_reply.started": "2023-01-16T21:04:24.923909Z"
    }
   },
   "outputs": [
    {
     "name": "stdout",
     "output_type": "stream",
     "text": [
      "<class 'pandas.core.frame.DataFrame'>\n",
      "Int64Index: 1 entries, 2199 to 2199\n",
      "Data columns (total 15 columns):\n",
      " #   Column          Non-Null Count  Dtype  \n",
      "---  ------          --------------  -----  \n",
      " 0   Year            1 non-null      int64  \n",
      " 1   Month           1 non-null      int64  \n",
      " 2   Day             1 non-null      int64  \n",
      " 3   Amount          1 non-null      float64\n",
      " 4   Use Chip        1 non-null      object \n",
      " 5   Merchant Name   1 non-null      int64  \n",
      " 6   Merchant City   1 non-null      object \n",
      " 7   Merchant State  1 non-null      object \n",
      " 8   Zip             1 non-null      float64\n",
      " 9   MCC             1 non-null      int64  \n",
      " 10  Errors?         0 non-null      object \n",
      " 11  Is Fraud?       1 non-null      object \n",
      " 12  card_id         1 non-null      object \n",
      " 13  Hour            1 non-null      object \n",
      " 14  Minute          1 non-null      object \n",
      "dtypes: float64(2), int64(5), object(8)\n",
      "memory usage: 128.0+ bytes\n"
     ]
    }
   ],
   "source": [
    "df = df.drop([\"Time\",\"User\",\"Card\"],axis=1)\n",
    "df.info()"
   ]
  },
  {
   "cell_type": "code",
   "execution_count": 15,
   "metadata": {
    "execution": {
     "iopub.execute_input": "2023-01-16T21:04:25.064933Z",
     "iopub.status.busy": "2023-01-16T21:04:25.064389Z",
     "iopub.status.idle": "2023-01-16T21:04:25.079731Z",
     "shell.execute_reply": "2023-01-16T21:04:25.077960Z",
     "shell.execute_reply.started": "2023-01-16T21:04:25.064892Z"
    }
   },
   "outputs": [
    {
     "data": {
      "text/plain": [
       "array([nan], dtype=object)"
      ]
     },
     "execution_count": 15,
     "metadata": {},
     "output_type": "execute_result"
    }
   ],
   "source": [
    "df[\"Errors?\"].unique()"
   ]
  },
  {
   "cell_type": "code",
   "execution_count": 16,
   "metadata": {
    "execution": {
     "iopub.execute_input": "2023-01-16T21:04:25.081579Z",
     "iopub.status.busy": "2023-01-16T21:04:25.081141Z",
     "iopub.status.idle": "2023-01-16T21:04:25.098267Z",
     "shell.execute_reply": "2023-01-16T21:04:25.096603Z",
     "shell.execute_reply.started": "2023-01-16T21:04:25.081535Z"
    }
   },
   "outputs": [],
   "source": [
    "df[\"Errors?\"]= df[\"Errors?\"].fillna(\"No error\")"
   ]
  },
  {
   "cell_type": "markdown",
   "metadata": {},
   "source": [
    "The two columns Zip and Merchant state contains missing values which can affect our graph. Moreover these information can be extracted from the column Merchant City so we will drop them."
   ]
  },
  {
   "cell_type": "code",
   "execution_count": 17,
   "metadata": {
    "execution": {
     "iopub.execute_input": "2023-01-16T21:04:25.100600Z",
     "iopub.status.busy": "2023-01-16T21:04:25.100132Z",
     "iopub.status.idle": "2023-01-16T21:04:25.129311Z",
     "shell.execute_reply": "2023-01-16T21:04:25.128080Z",
     "shell.execute_reply.started": "2023-01-16T21:04:25.100563Z"
    }
   },
   "outputs": [],
   "source": [
    "df = df.drop(columns=[\"Merchant State\",\"Zip\"],axis=1)"
   ]
  },
  {
   "cell_type": "code",
   "execution_count": 18,
   "metadata": {
    "execution": {
     "iopub.execute_input": "2023-01-16T21:04:25.131409Z",
     "iopub.status.busy": "2023-01-16T21:04:25.131026Z",
     "iopub.status.idle": "2023-01-16T21:04:25.193513Z",
     "shell.execute_reply": "2023-01-16T21:04:25.192070Z",
     "shell.execute_reply.started": "2023-01-16T21:04:25.131375Z"
    }
   },
   "outputs": [],
   "source": [
    "# change the is fraud column to binary \n",
    "df[\"Is Fraud?\"] = df[\"Is Fraud?\"].apply(lambda x: 1 if x == 'Yes' else 0)"
   ]
  },
  {
   "cell_type": "code",
   "execution_count": 19,
   "metadata": {
    "execution": {
     "iopub.execute_input": "2023-01-16T21:04:25.195994Z",
     "iopub.status.busy": "2023-01-16T21:04:25.195485Z",
     "iopub.status.idle": "2023-01-16T21:04:25.339333Z",
     "shell.execute_reply": "2023-01-16T21:04:25.338041Z",
     "shell.execute_reply.started": "2023-01-16T21:04:25.195927Z"
    }
   },
   "outputs": [],
   "source": [
    "df[\"Merchant City\"]=LabelEncoder().fit_transform(df[\"Merchant City\"])\n",
    "df[\"Use Chip\"]=LabelEncoder().fit_transform(df[\"Use Chip\"])\n",
    "df[\"Errors?\"]=LabelEncoder().fit_transform(df[\"Errors?\"])"
   ]
  },
  {
   "cell_type": "code",
   "execution_count": 20,
   "metadata": {
    "execution": {
     "iopub.execute_input": "2023-01-16T21:04:25.341534Z",
     "iopub.status.busy": "2023-01-16T21:04:25.341182Z",
     "iopub.status.idle": "2023-01-16T21:04:25.353390Z",
     "shell.execute_reply": "2023-01-16T21:04:25.351930Z",
     "shell.execute_reply.started": "2023-01-16T21:04:25.341502Z"
    }
   },
   "outputs": [
    {
     "data": {
      "text/plain": [
       "array([0])"
      ]
     },
     "execution_count": 20,
     "metadata": {},
     "output_type": "execute_result"
    }
   ],
   "source": [
    "df[\"Errors?\"].unique()"
   ]
  },
  {
   "cell_type": "code",
   "execution_count": 21,
   "metadata": {
    "execution": {
     "iopub.execute_input": "2023-01-16T21:04:25.355589Z",
     "iopub.status.busy": "2023-01-16T21:04:25.355142Z",
     "iopub.status.idle": "2023-01-16T21:04:25.391559Z",
     "shell.execute_reply": "2023-01-16T21:04:25.389950Z",
     "shell.execute_reply.started": "2023-01-16T21:04:25.355554Z"
    }
   },
   "outputs": [
    {
     "name": "stdout",
     "output_type": "stream",
     "text": [
      "<class 'pandas.core.frame.DataFrame'>\n",
      "Int64Index: 1 entries, 2199 to 2199\n",
      "Data columns (total 13 columns):\n",
      " #   Column         Non-Null Count  Dtype  \n",
      "---  ------         --------------  -----  \n",
      " 0   Year           1 non-null      int64  \n",
      " 1   Month          1 non-null      int64  \n",
      " 2   Day            1 non-null      int64  \n",
      " 3   Amount         1 non-null      float64\n",
      " 4   Use Chip       1 non-null      int32  \n",
      " 5   Merchant Name  1 non-null      int64  \n",
      " 6   Merchant City  1 non-null      int32  \n",
      " 7   MCC            1 non-null      int64  \n",
      " 8   Errors?        1 non-null      int32  \n",
      " 9   Is Fraud?      1 non-null      int64  \n",
      " 10  card_id        1 non-null      object \n",
      " 11  Hour           1 non-null      object \n",
      " 12  Minute         1 non-null      object \n",
      "dtypes: float64(1), int32(3), int64(6), object(3)\n",
      "memory usage: 100.0+ bytes\n"
     ]
    }
   ],
   "source": [
    "df.info()"
   ]
  },
  {
   "cell_type": "code",
   "execution_count": 22,
   "metadata": {
    "execution": {
     "iopub.execute_input": "2023-01-16T21:04:59.101133Z",
     "iopub.status.busy": "2023-01-16T21:04:59.099780Z",
     "iopub.status.idle": "2023-01-16T21:04:59.147377Z",
     "shell.execute_reply": "2023-01-16T21:04:59.146367Z",
     "shell.execute_reply.started": "2023-01-16T21:04:59.101074Z"
    }
   },
   "outputs": [],
   "source": [
    "# Create an empty graph\n",
    "G = nx.MultiGraph()\n",
    "\n",
    "# Add nodes to the graph for each unique card_id, merchant_name\n",
    "G.add_nodes_from(df[\"card_id\"].unique(), type='card_id')\n",
    "G.add_nodes_from(df[\"Merchant Name\"].unique(), type='merchant_name')\n"
   ]
  },
  {
   "cell_type": "code",
   "execution_count": 23,
   "metadata": {
    "execution": {
     "iopub.execute_input": "2023-01-16T21:04:59.150566Z",
     "iopub.status.busy": "2023-01-16T21:04:59.149502Z",
     "iopub.status.idle": "2023-01-16T21:05:11.197027Z",
     "shell.execute_reply": "2023-01-16T21:05:11.195877Z",
     "shell.execute_reply.started": "2023-01-16T21:04:59.150526Z"
    }
   },
   "outputs": [],
   "source": [
    "# Add edges and properties to the edges \n",
    "for _, row in df.iterrows():\n",
    "    # Create a variable for each properties for each edge\n",
    "    \n",
    "        year = row[\"Year\"],\n",
    "        month = row[\"Month\"],\n",
    "        day = row[\"Day\"],\n",
    "        hour = row[\"Hour\"],\n",
    "        minute =row[\"Minute\"],\n",
    "        amount = row[\"Amount\"],\n",
    "        use_chip =  row[\"Use Chip\"],\n",
    "        merchant_city = row[\"Merchant City\"],\n",
    "        errors =  row[\"Errors?\"],\n",
    "        mcc = row['MCC']\n",
    "    \n",
    " \n",
    "        G.add_edge(row['card_id'], row['Merchant Name'], year = year , month = month , day = day ,\n",
    "              hour = hour , minute = minute , amount = amount , use_chip = use_chip ,\n",
    "              merchant_city = merchant_city , errors = errors , mcc = mcc)\n",
    "  \n"
   ]
  },
  {
   "cell_type": "code",
   "execution_count": 24,
   "metadata": {
    "execution": {
     "iopub.execute_input": "2023-01-16T21:05:11.200279Z",
     "iopub.status.busy": "2023-01-16T21:05:11.198964Z",
     "iopub.status.idle": "2023-01-16T21:05:11.260184Z",
     "shell.execute_reply": "2023-01-16T21:05:11.259136Z",
     "shell.execute_reply.started": "2023-01-16T21:05:11.200228Z"
    }
   },
   "outputs": [
    {
     "name": "stdout",
     "output_type": "stream",
     "text": [
      "Number of nodes: 2\n",
      "Number of edges: 1\n"
     ]
    }
   ],
   "source": [
    "# Get the number of nodes and edges in the graph\n",
    "num_nodes = G.number_of_nodes()\n",
    "num_edges = G.number_of_edges()\n",
    "\n",
    "# Print the number of nodes and edges\n",
    "print(\"Number of nodes:\", num_nodes)\n",
    "print(\"Number of edges:\", num_edges)"
   ]
  },
  {
   "cell_type": "code",
   "execution_count": 39,
   "metadata": {
    "execution": {
     "iopub.execute_input": "2023-01-16T21:05:56.996797Z",
     "iopub.status.busy": "2023-01-16T21:05:56.996370Z",
     "iopub.status.idle": "2023-01-16T21:05:57.823056Z",
     "shell.execute_reply": "2023-01-16T21:05:57.821824Z",
     "shell.execute_reply.started": "2023-01-16T21:05:56.996759Z"
    }
   },
   "outputs": [
    {
     "name": "stderr",
     "output_type": "stream",
     "text": [
      "C:\\Users\\dhruv\\AppData\\Local\\Temp\\ipykernel_17640\\1408587376.py:2: FutureWarning: adjacency_matrix will return a scipy.sparse array instead of a matrix in Networkx 3.0.\n",
      "  adj_matrix = nx.adjacency_matrix(G).todense()\n"
     ]
    },
    {
     "ename": "AttributeError",
     "evalue": "module 'scipy.sparse' has no attribute 'coo_array'",
     "output_type": "error",
     "traceback": [
      "\u001b[1;31m---------------------------------------------------------------------------\u001b[0m",
      "\u001b[1;31mAttributeError\u001b[0m                            Traceback (most recent call last)",
      "\u001b[1;32m~\\AppData\\Local\\Temp\\ipykernel_17640\\1408587376.py\u001b[0m in \u001b[0;36m<module>\u001b[1;34m\u001b[0m\n\u001b[0;32m      1\u001b[0m \u001b[1;31m# Convert the graph to an adjacency matrix\u001b[0m\u001b[1;33m\u001b[0m\u001b[1;33m\u001b[0m\u001b[0m\n\u001b[1;32m----> 2\u001b[1;33m \u001b[0madj_matrix\u001b[0m \u001b[1;33m=\u001b[0m \u001b[0mnx\u001b[0m\u001b[1;33m.\u001b[0m\u001b[0madjacency_matrix\u001b[0m\u001b[1;33m(\u001b[0m\u001b[0mG\u001b[0m\u001b[1;33m)\u001b[0m\u001b[1;33m.\u001b[0m\u001b[0mtodense\u001b[0m\u001b[1;33m(\u001b[0m\u001b[1;33m)\u001b[0m\u001b[1;33m\u001b[0m\u001b[1;33m\u001b[0m\u001b[0m\n\u001b[0m",
      "\u001b[1;32mC:\\ProgramData\\Anaconda3\\lib\\site-packages\\networkx\\linalg\\graphmatrix.py\u001b[0m in \u001b[0;36madjacency_matrix\u001b[1;34m(G, nodelist, dtype, weight)\u001b[0m\n\u001b[0;32m    171\u001b[0m     )\n\u001b[0;32m    172\u001b[0m     \u001b[1;31m# TODO: Change to `to_scipy_sparse_array` for networkx 3.0\u001b[0m\u001b[1;33m\u001b[0m\u001b[1;33m\u001b[0m\u001b[0m\n\u001b[1;32m--> 173\u001b[1;33m     \u001b[1;32mreturn\u001b[0m \u001b[0mnx\u001b[0m\u001b[1;33m.\u001b[0m\u001b[0mto_scipy_sparse_matrix\u001b[0m\u001b[1;33m(\u001b[0m\u001b[0mG\u001b[0m\u001b[1;33m,\u001b[0m \u001b[0mnodelist\u001b[0m\u001b[1;33m=\u001b[0m\u001b[0mnodelist\u001b[0m\u001b[1;33m,\u001b[0m \u001b[0mdtype\u001b[0m\u001b[1;33m=\u001b[0m\u001b[0mdtype\u001b[0m\u001b[1;33m,\u001b[0m \u001b[0mweight\u001b[0m\u001b[1;33m=\u001b[0m\u001b[0mweight\u001b[0m\u001b[1;33m)\u001b[0m\u001b[1;33m\u001b[0m\u001b[1;33m\u001b[0m\u001b[0m\n\u001b[0m\u001b[0;32m    174\u001b[0m \u001b[1;33m\u001b[0m\u001b[0m\n\u001b[0;32m    175\u001b[0m \u001b[1;33m\u001b[0m\u001b[0m\n",
      "\u001b[1;32mC:\\ProgramData\\Anaconda3\\lib\\site-packages\\networkx\\convert_matrix.py\u001b[0m in \u001b[0;36mto_scipy_sparse_matrix\u001b[1;34m(G, nodelist, dtype, weight, format)\u001b[0m\n\u001b[0;32m   1019\u001b[0m         \u001b[0mstacklevel\u001b[0m\u001b[1;33m=\u001b[0m\u001b[1;36m2\u001b[0m\u001b[1;33m,\u001b[0m\u001b[1;33m\u001b[0m\u001b[1;33m\u001b[0m\u001b[0m\n\u001b[0;32m   1020\u001b[0m     )\n\u001b[1;32m-> 1021\u001b[1;33m     A = to_scipy_sparse_array(\n\u001b[0m\u001b[0;32m   1022\u001b[0m         \u001b[0mG\u001b[0m\u001b[1;33m,\u001b[0m \u001b[0mnodelist\u001b[0m\u001b[1;33m=\u001b[0m\u001b[0mnodelist\u001b[0m\u001b[1;33m,\u001b[0m \u001b[0mdtype\u001b[0m\u001b[1;33m=\u001b[0m\u001b[0mdtype\u001b[0m\u001b[1;33m,\u001b[0m \u001b[0mweight\u001b[0m\u001b[1;33m=\u001b[0m\u001b[0mweight\u001b[0m\u001b[1;33m,\u001b[0m \u001b[0mformat\u001b[0m\u001b[1;33m=\u001b[0m\u001b[0mformat\u001b[0m\u001b[1;33m\u001b[0m\u001b[1;33m\u001b[0m\u001b[0m\n\u001b[0;32m   1023\u001b[0m     )\n",
      "\u001b[1;32mC:\\ProgramData\\Anaconda3\\lib\\site-packages\\networkx\\convert_matrix.py\u001b[0m in \u001b[0;36mto_scipy_sparse_array\u001b[1;34m(G, nodelist, dtype, weight, format)\u001b[0m\n\u001b[0;32m    921\u001b[0m             \u001b[0mr\u001b[0m \u001b[1;33m+=\u001b[0m \u001b[0mdiag_index\u001b[0m\u001b[1;33m\u001b[0m\u001b[1;33m\u001b[0m\u001b[0m\n\u001b[0;32m    922\u001b[0m             \u001b[0mc\u001b[0m \u001b[1;33m+=\u001b[0m \u001b[0mdiag_index\u001b[0m\u001b[1;33m\u001b[0m\u001b[1;33m\u001b[0m\u001b[0m\n\u001b[1;32m--> 923\u001b[1;33m         \u001b[0mA\u001b[0m \u001b[1;33m=\u001b[0m \u001b[0msp\u001b[0m\u001b[1;33m.\u001b[0m\u001b[0msparse\u001b[0m\u001b[1;33m.\u001b[0m\u001b[0mcoo_array\u001b[0m\u001b[1;33m(\u001b[0m\u001b[1;33m(\u001b[0m\u001b[0md\u001b[0m\u001b[1;33m,\u001b[0m \u001b[1;33m(\u001b[0m\u001b[0mr\u001b[0m\u001b[1;33m,\u001b[0m \u001b[0mc\u001b[0m\u001b[1;33m)\u001b[0m\u001b[1;33m)\u001b[0m\u001b[1;33m,\u001b[0m \u001b[0mshape\u001b[0m\u001b[1;33m=\u001b[0m\u001b[1;33m(\u001b[0m\u001b[0mnlen\u001b[0m\u001b[1;33m,\u001b[0m \u001b[0mnlen\u001b[0m\u001b[1;33m)\u001b[0m\u001b[1;33m,\u001b[0m \u001b[0mdtype\u001b[0m\u001b[1;33m=\u001b[0m\u001b[0mdtype\u001b[0m\u001b[1;33m)\u001b[0m\u001b[1;33m\u001b[0m\u001b[1;33m\u001b[0m\u001b[0m\n\u001b[0m\u001b[0;32m    924\u001b[0m     \u001b[1;32mtry\u001b[0m\u001b[1;33m:\u001b[0m\u001b[1;33m\u001b[0m\u001b[1;33m\u001b[0m\u001b[0m\n\u001b[0;32m    925\u001b[0m         \u001b[1;32mreturn\u001b[0m \u001b[0mA\u001b[0m\u001b[1;33m.\u001b[0m\u001b[0masformat\u001b[0m\u001b[1;33m(\u001b[0m\u001b[0mformat\u001b[0m\u001b[1;33m)\u001b[0m\u001b[1;33m\u001b[0m\u001b[1;33m\u001b[0m\u001b[0m\n",
      "\u001b[1;31mAttributeError\u001b[0m: module 'scipy.sparse' has no attribute 'coo_array'"
     ]
    }
   ],
   "source": [
    "# Convert the graph to an adjacency matrix\n",
    "adj_matrix = nx.adjacency_matrix(G).todense()"
   ]
  },
  {
   "cell_type": "code",
   "execution_count": 26,
   "metadata": {
    "execution": {
     "iopub.execute_input": "2023-01-16T21:05:57.825732Z",
     "iopub.status.busy": "2023-01-16T21:05:57.825182Z",
     "iopub.status.idle": "2023-01-16T21:05:57.833229Z",
     "shell.execute_reply": "2023-01-16T21:05:57.831790Z",
     "shell.execute_reply.started": "2023-01-16T21:05:57.825696Z"
    }
   },
   "outputs": [
    {
     "ename": "NameError",
     "evalue": "name 'adj_matrix' is not defined",
     "output_type": "error",
     "traceback": [
      "\u001b[1;31m---------------------------------------------------------------------------\u001b[0m",
      "\u001b[1;31mNameError\u001b[0m                                 Traceback (most recent call last)",
      "\u001b[1;32m~\\AppData\\Local\\Temp\\ipykernel_17640\\1349375181.py\u001b[0m in \u001b[0;36m<module>\u001b[1;34m\u001b[0m\n\u001b[1;32m----> 1\u001b[1;33m \u001b[0madj_matrix\u001b[0m\u001b[1;33m.\u001b[0m\u001b[0mshape\u001b[0m\u001b[1;33m\u001b[0m\u001b[1;33m\u001b[0m\u001b[0m\n\u001b[0m",
      "\u001b[1;31mNameError\u001b[0m: name 'adj_matrix' is not defined"
     ]
    }
   ],
   "source": [
    "adj_matrix.shape"
   ]
  },
  {
   "cell_type": "markdown",
   "metadata": {},
   "source": [
    "We will retrieve the properties of a small sample of **nodes** in our graph (G) and print their properties."
   ]
  },
  {
   "cell_type": "code",
   "execution_count": 27,
   "metadata": {
    "execution": {
     "iopub.execute_input": "2023-01-16T21:05:57.836497Z",
     "iopub.status.busy": "2023-01-16T21:05:57.835126Z",
     "iopub.status.idle": "2023-01-16T21:05:57.860033Z",
     "shell.execute_reply": "2023-01-16T21:05:57.858785Z",
     "shell.execute_reply.started": "2023-01-16T21:05:57.836446Z"
    }
   },
   "outputs": [
    {
     "name": "stdout",
     "output_type": "stream",
     "text": [
      "Node: 0_0, Properties: card_id\n",
      "Node: -34551508091458520, Properties: merchant_name\n"
     ]
    }
   ],
   "source": [
    "# Get a small sample of the nodes in the graph\n",
    "sample_nodes = list(G.nodes())[:10]\n",
    "\n",
    "# Retrieve the properties of the sample nodes\n",
    "node_properties = nx.get_node_attributes(G, 'type')\n",
    "\n",
    "# Print the properties of the sample nodes\n",
    "for node in sample_nodes:\n",
    "    print(f\"Node: {node}, Properties: {node_properties[node]}\")\n"
   ]
  },
  {
   "cell_type": "code",
   "execution_count": 28,
   "metadata": {
    "execution": {
     "iopub.execute_input": "2023-01-16T21:05:57.862762Z",
     "iopub.status.busy": "2023-01-16T21:05:57.862402Z",
     "iopub.status.idle": "2023-01-16T21:05:57.870056Z",
     "shell.execute_reply": "2023-01-16T21:05:57.868163Z",
     "shell.execute_reply.started": "2023-01-16T21:05:57.862730Z"
    }
   },
   "outputs": [
    {
     "name": "stdout",
     "output_type": "stream",
     "text": [
      "{0: {'year': (2009,), 'month': (1,), 'day': (15,), 'hour': ('06',), 'minute': ('35',), 'amount': (32.26,), 'use_chip': (0,), 'merchant_city': (0,), 'errors': (0,), 'mcc': 5912}}\n"
     ]
    }
   ],
   "source": [
    "sample_size = 5\n",
    "for i, edge in enumerate(G.edges()):\n",
    "    print(G.get_edge_data(*edge))\n",
    "    if i >= sample_size - 1:\n",
    "        break"
   ]
  },
  {
   "cell_type": "markdown",
   "metadata": {},
   "source": [
    "We will retrieve the properties of a small sample of **edges** in our graph (G) and print their properties."
   ]
  },
  {
   "cell_type": "code",
   "execution_count": 29,
   "metadata": {
    "execution": {
     "iopub.execute_input": "2023-01-16T21:05:57.872391Z",
     "iopub.status.busy": "2023-01-16T21:05:57.871964Z",
     "iopub.status.idle": "2023-01-16T21:05:58.134277Z",
     "shell.execute_reply": "2023-01-16T21:05:58.133092Z",
     "shell.execute_reply.started": "2023-01-16T21:05:57.872358Z"
    }
   },
   "outputs": [
    {
     "name": "stdout",
     "output_type": "stream",
     "text": [
      "Property value: (0,), Count: 1\n"
     ]
    }
   ],
   "source": [
    "# Retrieve the properties errors of all the edges\n",
    "edge_properties = nx.get_edge_attributes(G, 'errors')\n",
    "\n",
    "# Count the number of edges by property value\n",
    "edge_count_by_property = Counter(edge_properties.values())\n",
    "\n",
    "# Print the count of edges by property value\n",
    "for property_value, count in edge_count_by_property.items():\n",
    "    print(f\"Property value: {property_value}, Count: {count}\")\n"
   ]
  },
  {
   "cell_type": "code",
   "execution_count": 30,
   "metadata": {
    "execution": {
     "iopub.execute_input": "2023-01-16T21:05:58.136545Z",
     "iopub.status.busy": "2023-01-16T21:05:58.136192Z",
     "iopub.status.idle": "2023-01-16T21:05:58.387685Z",
     "shell.execute_reply": "2023-01-16T21:05:58.386486Z",
     "shell.execute_reply.started": "2023-01-16T21:05:58.136505Z"
    }
   },
   "outputs": [],
   "source": [
    "# Prepare the data for input into the model\n",
    "edge_list = list(G.edges(data=True))"
   ]
  },
  {
   "cell_type": "code",
   "execution_count": 31,
   "metadata": {
    "execution": {
     "iopub.execute_input": "2023-01-16T21:05:58.390302Z",
     "iopub.status.busy": "2023-01-16T21:05:58.389431Z",
     "iopub.status.idle": "2023-01-16T21:05:58.398607Z",
     "shell.execute_reply": "2023-01-16T21:05:58.397775Z",
     "shell.execute_reply.started": "2023-01-16T21:05:58.390255Z"
    }
   },
   "outputs": [
    {
     "data": {
      "text/plain": [
       "[(2009,), (1,), (15,), ('06',), ('35',), (32.26,), (0,), (0,), (0,), 5912]"
      ]
     },
     "execution_count": 31,
     "metadata": {},
     "output_type": "execute_result"
    }
   ],
   "source": [
    "list(edge_list[i][2].values())"
   ]
  },
  {
   "cell_type": "markdown",
   "metadata": {},
   "source": [
    "We define a PyTorch neural network model called \"FraudGNN\" which is a type of Graph Neural Network. The model is a simple feedforward neural network with two fully connected (Linear) layers. The first layer has input_dim number of input units and hidden_dim number of output units, while the second layer has hidden_dim number of input units and 1 output unit.\n",
    "The forward function of the model applies the linear layers to the input tensor \"x\" and applies a ReLU activation function to the output of the first linear layer.\n",
    "\n",
    "We also prepare data for input into the model. We define the variable \"edge_list\" which is a list of edges and their associated data in a graph G. Then we create an empty list called \"x\" and iterates over each edge in the edge_list. For each edge, it extracts the values of the edge data, converts them to floats if needed, and append them to the list \"x\". Finally, we convert the list \"x\" to a PyTorch tensor with float datatype, which is ready to be input into the FraudGNN model."
   ]
  },
  {
   "cell_type": "code",
   "execution_count": 32,
   "metadata": {
    "execution": {
     "iopub.execute_input": "2023-01-16T21:22:49.199526Z",
     "iopub.status.busy": "2023-01-16T21:22:49.199098Z",
     "iopub.status.idle": "2023-01-16T21:22:50.703386Z",
     "shell.execute_reply": "2023-01-16T21:22:50.702210Z",
     "shell.execute_reply.started": "2023-01-16T21:22:49.199494Z"
    }
   },
   "outputs": [],
   "source": [
    "class FraudGNN(nn.Module):\n",
    "    def __init__(self, input_dim, hidden_dim):\n",
    "        super(FraudGNN, self).__init__()\n",
    "        self.fc1 = nn.Linear(input_dim, hidden_dim)\n",
    "        self.fc2 = nn.Linear(hidden_dim, 1)\n",
    "        \n",
    "    def forward(self, x):\n",
    "        x = self.fc1(x)\n",
    "        x = F.relu(x)\n",
    "        x = self.fc2(x)\n",
    "        return x.squeeze(-1)\n",
    "\n",
    "# Prepare the data for input into the model\n",
    "edge_list = list(G.edges(data=True))\n",
    "x = []\n",
    "for edge in edge_list:\n",
    "    edge_values = list(edge[2].values())\n",
    "    edge_values = [float(i[0]) if type(i) == tuple and type(i[0]) == str else i[0] if type(i) == tuple else i for i in edge_values]\n",
    "    x.append(edge_values)\n",
    "x = torch.tensor(x, dtype=torch.float)"
   ]
  },
  {
   "cell_type": "code",
   "execution_count": 33,
   "metadata": {
    "execution": {
     "iopub.execute_input": "2023-01-16T21:22:52.214265Z",
     "iopub.status.busy": "2023-01-16T21:22:52.213847Z",
     "iopub.status.idle": "2023-01-16T21:22:52.220759Z",
     "shell.execute_reply": "2023-01-16T21:22:52.219048Z",
     "shell.execute_reply.started": "2023-01-16T21:22:52.214232Z"
    }
   },
   "outputs": [],
   "source": [
    "target = torch.tensor(df['Is Fraud?'].values, dtype=torch.float)"
   ]
  },
  {
   "cell_type": "code",
   "execution_count": 34,
   "metadata": {
    "execution": {
     "iopub.execute_input": "2023-01-16T21:22:55.479953Z",
     "iopub.status.busy": "2023-01-16T21:22:55.479572Z",
     "iopub.status.idle": "2023-01-16T21:22:55.486403Z",
     "shell.execute_reply": "2023-01-16T21:22:55.485519Z",
     "shell.execute_reply.started": "2023-01-16T21:22:55.479922Z"
    }
   },
   "outputs": [],
   "source": [
    "# Define the model\n",
    "input_dim = len(x[0])\n",
    "hidden_dim = 16\n",
    "model = FraudGNN(input_dim, hidden_dim)\n",
    "num_epochs=201\n",
    "\n",
    "# Define the loss function and optimizer\n",
    "criterion = nn.BCEWithLogitsLoss()\n",
    "optimizer = torch.optim.Adam(model.parameters(), lr=0.01)"
   ]
  },
  {
   "cell_type": "code",
   "execution_count": 35,
   "metadata": {
    "execution": {
     "iopub.execute_input": "2023-01-16T21:22:58.153084Z",
     "iopub.status.busy": "2023-01-16T21:22:58.151218Z",
     "iopub.status.idle": "2023-01-16T21:23:02.723745Z",
     "shell.execute_reply": "2023-01-16T21:23:02.722551Z",
     "shell.execute_reply.started": "2023-01-16T21:22:58.153021Z"
    }
   },
   "outputs": [
    {
     "name": "stdout",
     "output_type": "stream",
     "text": [
      "Epoch: 0, Loss: 0.0\n",
      "Epoch: 20, Loss: 0.0\n",
      "Epoch: 40, Loss: 0.0\n",
      "Epoch: 60, Loss: 0.0\n",
      "Epoch: 80, Loss: 0.0\n",
      "Epoch: 100, Loss: 0.0\n",
      "Epoch: 120, Loss: 0.0\n",
      "Epoch: 140, Loss: 0.0\n",
      "Epoch: 160, Loss: 0.0\n",
      "Epoch: 180, Loss: 0.0\n",
      "Epoch: 200, Loss: 0.0\n"
     ]
    }
   ],
   "source": [
    "# Train the model\n",
    "for i in range(num_epochs):\n",
    "    # Forward pass\n",
    "    output = model(x)\n",
    "    # Compute the loss\n",
    "    loss = criterion(output, target)\n",
    "    if i % 20 == 0:\n",
    "        print(f'Epoch: {i}, Loss: {loss.item()}')\n",
    "    # Zero the gradients\n",
    "    optimizer.zero_grad()\n",
    "    # Perform backpropagation\n",
    "    loss.backward()\n",
    "    # Update the parameters\n",
    "    optimizer.step()"
   ]
  },
  {
   "cell_type": "markdown",
   "metadata": {},
   "source": [
    "### Method 2 "
   ]
  },
  {
   "cell_type": "markdown",
   "metadata": {},
   "source": [
    "In this part we will base our work on the [paper](https://www.sciencedirect.com/science/article/abs/pii/S0957417421017449) **Inductive Graph Representation Learning for fraud detection** written by RafaëlVan Belle, Charles Van Damme, Hendrik Tytgat and JochenDe Weerdt. \n",
    "\n",
    "Charles has created a python library with the name of inductiveGRL for the experimental setup of their paper. \n",
    "\n",
    "Library overview :\n",
    "\n",
    "1. Transaction Data\n",
    "Any dataset that can be transformed into a graph can be used in our experimental setup. For our research, we used a real-life dataset to construct credit card transaction networks containing millions of transactions. This dataset includes information on the following features: anonymized identification of clients and merchants, merchant category code, country, monetary amount, time, acceptance, and fraud label. This real-life dataset is highly imbalanced and contains only 0.65% fraudulent transactions. Note that the demo data in this repository is artificaly generated for demonstration purposes. The Timeframes component derives the different timeframes for a rolling window setup given a step and window size.\n",
    "\n",
    "2. Graph Construction\n",
    "The GraphConstruction component constructs the graphs that will be used by graph representation learners (e.g. FI-GRL and GraphSAGE) to learn node embeddings. We designed the credit card transaction networks as heterogeneous tripartite graphs containing client, merchant and transaction nodes. Because of this tripartite setup, representations can be learned for the transaction nodes. Only the transaction nodes are configured with node features.\n",
    "\n",
    "3. GraphSAGE\n",
    "The HinSAGE code deploys a supervised, heterogeneous implementation of the GraphSAGE framework called HinSAGE, to learn embeddings of the transaction nodes in the aforementioned graphs.\n",
    "\n",
    "4. FI-GRL\n",
    "The FIGRL code learns embeddings of the transaction nodes in the aforementioned graphs using the Fast Inductive Graph Representation Learning Framework. We call the Matlab implementation of FI-GRL from our Jupyter notebooks, which requires an appropriate installation of matlab.engine in the same folder as the notebooks. If you wish to run FI-GRL from Python, please run the following command in Matlab:\n",
    "\n",
    "cd (fullfile(matlabroot,'extern','engines','python'))\n",
    "system('python setup.py install')\n",
    "\n",
    "This will generate a folder in matlabroot\\extern\\engines\\python\\build\\lib called 'matlab' please copy this folder and place it on the same location as the notebook from which you want to call matlab.engine. If you don't know your matlab root, running 'matlabroot' in Matlab will return the appropriate path.\n",
    "\n",
    "5. Classifier\n",
    "The penultimate component in our pipeline uses the transaction node embeddings to classify the transaction nodes as fraudulent or legitimate. We chose to rely on XGBoost as a classification model, but other classifiers can easily be implemented.\n",
    "\n",
    "6. Evaluation\n",
    "The Evaluation component contains functions for the Lift score, Lift curve and precision-recall curve. We focused on these evaluation metrics given the highly imbalanced nature of our dataset. However, this code can easily be extended to contain other evaluation metrics such as ROC plots."
   ]
  },
  {
   "cell_type": "code",
   "execution_count": 36,
   "metadata": {
    "execution": {
     "iopub.execute_input": "2023-01-16T21:08:59.216406Z",
     "iopub.status.busy": "2023-01-16T21:08:59.215951Z",
     "iopub.status.idle": "2023-01-16T21:09:41.666384Z",
     "shell.execute_reply": "2023-01-16T21:09:41.664133Z",
     "shell.execute_reply.started": "2023-01-16T21:08:59.216369Z"
    }
   },
   "outputs": [
    {
     "name": "stdout",
     "output_type": "stream",
     "text": [
      "Defaulting to user installation because normal site-packages is not writeable\n",
      "Collecting inductiveGRL\n",
      "  Downloading inductiveGRL-0.2-py3-none-any.whl (6.6 kB)\n",
      "Requirement already satisfied: matplotlib in c:\\programdata\\anaconda3\\lib\\site-packages (from inductiveGRL) (3.5.2)\n",
      "  Downloading inductiveGRL-0.1.tar.gz (6.8 kB)\n",
      "  Preparing metadata (setup.py): started\n",
      "  Preparing metadata (setup.py): finished with status 'done'\n",
      "Collecting ipynb\n",
      "  Downloading ipynb-0.5.1-py3-none-any.whl (6.9 kB)\n",
      "Collecting nbimporter\n",
      "  Downloading nbimporter-0.3.4-py3-none-any.whl (4.9 kB)\n",
      "\n",
      "The conflict is caused by:\n",
      "    inductivegrl 0.2 depends on stellargraph\n",
      "    inductivegrl 0.1 depends on stellargraph\n",
      "\n",
      "To fix this you could try to:\n",
      "1. loosen the range of package versions you've specified\n",
      "2. remove package versions to allow pip attempt to solve the dependency conflict\n",
      "\n"
     ]
    },
    {
     "name": "stderr",
     "output_type": "stream",
     "text": [
      "ERROR: Cannot install inductivegrl==0.1 and inductivegrl==0.2 because these package versions have conflicting dependencies.\n",
      "ERROR: ResolutionImpossible: for help visit https://pip.pypa.io/en/latest/topics/dependency-resolution/#dealing-with-dependency-conflicts\n"
     ]
    }
   ],
   "source": [
    "#library installation\n",
    "!pip install inductiveGRL "
   ]
  },
  {
   "cell_type": "code",
   "execution_count": 38,
   "metadata": {},
   "outputs": [
    {
     "name": "stdout",
     "output_type": "stream",
     "text": [
      "Defaulting to user installation because normal site-packages is not writeable\n",
      "Collecting inductiveGRL\n",
      "  Using cached inductiveGRL-0.2-py3-none-any.whl (6.6 kB)\n",
      "Collecting matlab-kernel\n",
      "  Downloading matlab_kernel-0.17.1-py3-none-any.whl (10 kB)\n",
      "Requirement already satisfied: matplotlib in c:\\programdata\\anaconda3\\lib\\site-packages (from inductiveGRL) (3.5.2)\n",
      "Collecting nbimporter\n",
      "  Using cached nbimporter-0.3.4-py3-none-any.whl (4.9 kB)\n",
      "Requirement already satisfied: pandas in c:\\programdata\\anaconda3\\lib\\site-packages (from inductiveGRL) (1.4.4)\n",
      "Collecting sklearn\n",
      "  Downloading sklearn-0.0.post11.tar.gz (3.6 kB)\n",
      "  Preparing metadata (setup.py): started\n",
      "  Preparing metadata (setup.py): finished with status 'done'\n",
      "Requirement already satisfied: keras in c:\\users\\dhruv\\appdata\\roaming\\python\\python39\\site-packages (from inductiveGRL) (2.10.0)\n",
      "Requirement already satisfied: networkx in c:\\programdata\\anaconda3\\lib\\site-packages (from inductiveGRL) (2.8.4)\n",
      "Requirement already satisfied: xgboost in c:\\users\\dhruv\\appdata\\roaming\\python\\python39\\site-packages (from inductiveGRL) (1.7.5)\n",
      "Collecting scikit-plot\n",
      "  Downloading scikit_plot-0.3.7-py3-none-any.whl (33 kB)\n",
      "Requirement already satisfied: numpy in c:\\users\\dhruv\\appdata\\roaming\\python\\python39\\site-packages (from inductiveGRL) (1.22.4)\n",
      "Requirement already satisfied: tensorflow in c:\\users\\dhruv\\appdata\\roaming\\python\\python39\\site-packages (from inductiveGRL) (2.10.0)\n",
      "Collecting ipynb\n",
      "  Using cached ipynb-0.5.1-py3-none-any.whl (6.9 kB)\n",
      "Collecting inductiveGRL\n",
      "  Using cached inductiveGRL-0.1.tar.gz (6.8 kB)\n",
      "  Preparing metadata (setup.py): started\n",
      "  Preparing metadata (setup.py): finished with status 'done'\n",
      "\n",
      "The conflict is caused by:\n",
      "    inductivegrl 0.2 depends on stellargraph\n",
      "    inductivegrl 0.1 depends on stellargraph\n",
      "\n",
      "To fix this you could try to:\n",
      "1. loosen the range of package versions you've specified\n",
      "2. remove package versions to allow pip attempt to solve the dependency conflict\n",
      "\n"
     ]
    },
    {
     "name": "stderr",
     "output_type": "stream",
     "text": [
      "ERROR: Cannot install inductivegrl==0.1 and inductivegrl==0.2 because these package versions have conflicting dependencies.\n",
      "ERROR: ResolutionImpossible: for help visit https://pip.pypa.io/en/latest/topics/dependency-resolution/#dealing-with-dependency-conflicts\n"
     ]
    }
   ],
   "source": [
    "!pip install inductiveGRL"
   ]
  },
  {
   "cell_type": "code",
   "execution_count": 37,
   "metadata": {
    "execution": {
     "iopub.execute_input": "2023-01-16T21:09:41.672131Z",
     "iopub.status.busy": "2023-01-16T21:09:41.671665Z",
     "iopub.status.idle": "2023-01-16T21:09:47.765858Z",
     "shell.execute_reply": "2023-01-16T21:09:47.764945Z",
     "shell.execute_reply.started": "2023-01-16T21:09:41.672086Z"
    }
   },
   "outputs": [
    {
     "ename": "ModuleNotFoundError",
     "evalue": "No module named 'inductiveGRL'",
     "output_type": "error",
     "traceback": [
      "\u001b[1;31m---------------------------------------------------------------------------\u001b[0m",
      "\u001b[1;31mModuleNotFoundError\u001b[0m                       Traceback (most recent call last)",
      "\u001b[1;32m~\\AppData\\Local\\Temp\\ipykernel_17640\\2998337764.py\u001b[0m in \u001b[0;36m<module>\u001b[1;34m\u001b[0m\n\u001b[0;32m      1\u001b[0m \u001b[1;31m# necessary imports of this part\u001b[0m\u001b[1;33m\u001b[0m\u001b[1;33m\u001b[0m\u001b[0m\n\u001b[1;32m----> 2\u001b[1;33m \u001b[1;32mfrom\u001b[0m \u001b[0minductiveGRL\u001b[0m\u001b[1;33m.\u001b[0m\u001b[0mgraphconstruction\u001b[0m \u001b[1;32mimport\u001b[0m \u001b[0mGraphConstruction\u001b[0m\u001b[1;33m\u001b[0m\u001b[1;33m\u001b[0m\u001b[0m\n\u001b[0m\u001b[0;32m      3\u001b[0m \u001b[1;32mfrom\u001b[0m \u001b[0minductiveGRL\u001b[0m\u001b[1;33m.\u001b[0m\u001b[0mhinsage\u001b[0m \u001b[1;32mimport\u001b[0m \u001b[0mHinSAGE_Representation_Learner\u001b[0m\u001b[1;33m\u001b[0m\u001b[1;33m\u001b[0m\u001b[0m\n",
      "\u001b[1;31mModuleNotFoundError\u001b[0m: No module named 'inductiveGRL'"
     ]
    }
   ],
   "source": [
    "# necessary imports of this part\n",
    "from inductiveGRL.graphconstruction import GraphConstruction\n",
    "from inductiveGRL.hinsage import HinSAGE_Representation_Learner"
   ]
  },
  {
   "cell_type": "code",
   "execution_count": null,
   "metadata": {
    "execution": {
     "iopub.execute_input": "2023-01-16T21:09:47.771863Z",
     "iopub.status.busy": "2023-01-16T21:09:47.769820Z",
     "iopub.status.idle": "2023-01-16T21:09:47.780728Z",
     "shell.execute_reply": "2023-01-16T21:09:47.778742Z",
     "shell.execute_reply.started": "2023-01-16T21:09:47.771823Z"
    }
   },
   "outputs": [],
   "source": [
    "# Global parameters:\n",
    "embedding_size = 64\n",
    "add_additional_data = True"
   ]
  },
  {
   "cell_type": "markdown",
   "metadata": {},
   "source": [
    "We will split our data 70% to train_data and 30% for inductive data that will be used to test the model's ability to generalize to new, unseen data.\n",
    "\n",
    "First we calculate the cutoff point for the split using the formula \"cutoff = round(0.7*len(df))\" where 0.7 represents 70% of the data, and len(df) is the total number of rows in the dataframe. The round function is used to round the cutoff point to the nearest whole number.\n",
    "\n",
    "Second we assign the first \"cutoff\" rows of the dataframe to the variable \"train_data\" by calling the head() function on the dataframe and passing the cutoff point as an argument. These rows will be used as the training data.\n",
    "\n",
    "Last we assign the remaining rows of the dataframe (the rows after the cutoff point) to the variable \"inductive_data\" by calling the tail() function on the dataframe and passing the number of remaining rows (len(df) - cutoff) as an argument. These rows will be used as the inductive data."
   ]
  },
  {
   "cell_type": "code",
   "execution_count": null,
   "metadata": {
    "execution": {
     "iopub.execute_input": "2023-01-16T21:09:47.784848Z",
     "iopub.status.busy": "2023-01-16T21:09:47.784038Z",
     "iopub.status.idle": "2023-01-16T21:09:47.801896Z",
     "shell.execute_reply": "2023-01-16T21:09:47.800276Z",
     "shell.execute_reply.started": "2023-01-16T21:09:47.784790Z"
    }
   },
   "outputs": [],
   "source": [
    "# we will take 70% of our dataset as traindata\n",
    "cutoff = round(0.7*len(df)) \n",
    "train_data = df.head(cutoff)\n",
    "inductive_data = df.tail(len(df)-cutoff)"
   ]
  },
  {
   "cell_type": "code",
   "execution_count": null,
   "metadata": {
    "execution": {
     "iopub.execute_input": "2023-01-16T21:09:47.804188Z",
     "iopub.status.busy": "2023-01-16T21:09:47.803762Z",
     "iopub.status.idle": "2023-01-16T21:09:47.818779Z",
     "shell.execute_reply": "2023-01-16T21:09:47.817788Z",
     "shell.execute_reply.started": "2023-01-16T21:09:47.804148Z"
    }
   },
   "outputs": [],
   "source": [
    "print('The distribution of fraud for the train data is:\\n', train_data['Is Fraud?'].value_counts())\n",
    "print('The distribution of fraud for the inductive data is:\\n', inductive_data['Is Fraud?'].value_counts())"
   ]
  },
  {
   "cell_type": "markdown",
   "metadata": {},
   "source": [
    "#### Graphe construction "
   ]
  },
  {
   "cell_type": "markdown",
   "metadata": {},
   "source": [
    "We will create a graph from a train_data using the GraphConstruction class. First we create the dataframes for the node data, second we define the nodes and edges, third  we create a dictionary of features, and finally we create a graph object, and calls the get_stellargraph() method to get the StellarGraph object."
   ]
  },
  {
   "cell_type": "code",
   "execution_count": null,
   "metadata": {
    "execution": {
     "iopub.execute_input": "2023-01-16T21:09:47.820745Z",
     "iopub.status.busy": "2023-01-16T21:09:47.819916Z",
     "iopub.status.idle": "2023-01-16T21:09:49.986630Z",
     "shell.execute_reply": "2023-01-16T21:09:49.985174Z",
     "shell.execute_reply.started": "2023-01-16T21:09:47.820707Z"
    }
   },
   "outputs": [],
   "source": [
    "transaction_node_data = train_data.drop(\"card_id\", axis=1).drop(\"Merchant Name\", axis=1).drop('Is Fraud?', axis=1)\n",
    "client_node_data = pd.DataFrame([1]*len(train_data[\"card_id\"].unique())).set_index(train_data[\"card_id\"].unique())\n",
    "merchant_node_data = pd.DataFrame([1]*len(train_data[\"Merchant Name\"].unique())).set_index(train_data[\"Merchant Name\"].unique())\n",
    "\n",
    "nodes = {\"client\":train_data.card_id, \"merchant\":train_data[\"Merchant Name\"], \"transaction\":train_data.index}\n",
    "edges = [zip(train_data.card_id, train_data.index),zip(train_data[\"Merchant Name\"], train_data.index)]\n",
    "features = {\"transaction\": transaction_node_data, 'client': client_node_data, 'merchant': merchant_node_data}\n",
    "\n",
    "graph = GraphConstruction(nodes, edges, features)\n",
    "S = graph.get_stellargraph()\n",
    "print(S.info())"
   ]
  },
  {
   "cell_type": "code",
   "execution_count": null,
   "metadata": {
    "execution": {
     "iopub.execute_input": "2023-01-16T21:09:49.989169Z",
     "iopub.status.busy": "2023-01-16T21:09:49.988488Z",
     "iopub.status.idle": "2023-01-16T21:22:25.952671Z",
     "shell.execute_reply": "2023-01-16T21:22:25.951482Z",
     "shell.execute_reply.started": "2023-01-16T21:09:49.989130Z"
    }
   },
   "outputs": [],
   "source": [
    "#GraphSAGE parameters\n",
    "num_samples = [2,32]\n",
    "embedding_node_type = \"transaction\"\n",
    "\n",
    "hinsage = HinSAGE_Representation_Learner(embedding_size, num_samples, embedding_node_type)\n",
    "trained_hinsage_model, train_emb = hinsage.train_hinsage(S, list(train_data.index), train_data['Is Fraud?'], batch_size=5, epochs=10)"
   ]
  }
 ],
 "metadata": {
  "kernelspec": {
   "display_name": "Python 3 (ipykernel)",
   "language": "python",
   "name": "python3"
  },
  "language_info": {
   "codemirror_mode": {
    "name": "ipython",
    "version": 3
   },
   "file_extension": ".py",
   "mimetype": "text/x-python",
   "name": "python",
   "nbconvert_exporter": "python",
   "pygments_lexer": "ipython3",
   "version": "3.9.13"
  }
 },
 "nbformat": 4,
 "nbformat_minor": 4
}
